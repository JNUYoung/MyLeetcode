{
 "cells": [
  {
   "cell_type": "code",
   "execution_count": 1,
   "metadata": {},
   "outputs": [],
   "source": [
    "# 方法一，直接平方再排序\n",
    "def sortedSquares(nums):\n",
    "        \"\"\"\n",
    "        :type nums: List[int]\n",
    "        :rtype: List[int]\n",
    "        \"\"\"\n",
    "        nums = [abs(item)**2 for item in nums]\n",
    "        nums = sorted(nums)\n",
    "        return nums"
   ]
  },
  {
   "cell_type": "code",
   "execution_count": 3,
   "metadata": {},
   "outputs": [],
   "source": [
    "# 方法2 双指针\n",
    "def sortedSquares(nums):\n",
    "        \"\"\"\n",
    "        :type nums: List[int]\n",
    "        :rtype: List[int]\n",
    "        \"\"\"\n",
    "        border = -100\n",
    "        for i in range(len(nums)):\n",
    "            if nums[i] < 0:\n",
    "                continue\n",
    "            else:\n",
    "                border = i\n",
    "                break\n",
    "        \n",
    "        negative_pointer = 0       # [0,border-1]\n",
    "        positive_pointer = border  # [border,len(nums)]\n",
    "\n",
    "        res = []\n",
    "        for j in range(0,border):\n",
    "            for k in range(border+1,len(nums)):\n",
    "                res.append(nums[j] if nums[j] <= nums[k] else nums[k])\n",
    "        return res"
   ]
  },
  {
   "cell_type": "code",
   "execution_count": 7,
   "metadata": {},
   "outputs": [],
   "source": [
    "# 这个方法非常巧妙，考虑到给定数组的独特的特点，即平方后，负数列表会单调递减、而正数列表为单调递增\n",
    "# 因此，初始化两个指针，分别从数组开始和数组结束元素向中间遍历比较，平方值大者插入到新数组的最后一个位置\n",
    "\n",
    "def sortedSquares(nums):\n",
    "        \"\"\"\n",
    "        :type nums: List[int]\n",
    "        :rtype: List[int]\n",
    "        \"\"\"\n",
    "\n",
    "        length = len(nums)\n",
    "        res = [0]*length\n",
    "\n",
    "        left = 0    # 左指针\n",
    "        right = length - 1  #右指针\n",
    "        position = length - 1   # 两两比较结束后，应当插入的位置索引\n",
    "\n",
    "        while left <= right:\n",
    "            if nums[left]**2 > nums[right]**2:      # 如果最小数的平方大于最大数的平方，则处理最小数\n",
    "                res[position] = nums[left]**2\n",
    "                position = position - 1\n",
    "                left = left + 1\n",
    "            else:\n",
    "                res[position] = nums[right] ** 2\n",
    "                position = position - 1\n",
    "                right = right - 1 \n",
    "\n",
    "        return res"
   ]
  },
  {
   "cell_type": "code",
   "execution_count": 8,
   "metadata": {},
   "outputs": [
    {
     "name": "stdout",
     "output_type": "stream",
     "text": [
      "[0, 1, 4, 9, 16]\n"
     ]
    }
   ],
   "source": [
    "test = [-4,-2,0,1,3]\n",
    "print(sortedSquares(test))"
   ]
  }
 ],
 "metadata": {
  "interpreter": {
   "hash": "e2c4c758a7ff6f380723c209dacec42be66d0b5884c871ca0a0111725681fc36"
  },
  "kernelspec": {
   "display_name": "Python 3.7.6 ('base')",
   "language": "python",
   "name": "python3"
  },
  "language_info": {
   "codemirror_mode": {
    "name": "ipython",
    "version": 3
   },
   "file_extension": ".py",
   "mimetype": "text/x-python",
   "name": "python",
   "nbconvert_exporter": "python",
   "pygments_lexer": "ipython3",
   "version": "3.7.6"
  },
  "orig_nbformat": 4
 },
 "nbformat": 4,
 "nbformat_minor": 2
}
