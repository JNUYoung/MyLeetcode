{
 "cells": [
  {
   "cell_type": "code",
   "execution_count": 2,
   "metadata": {},
   "outputs": [],
   "source": [
    "# leetcode 209  长度最小的子数组\n",
    "# middle\n",
    "\n",
    "# description:\n",
    "# 给定一个含有n个正整数的数组和一个正整数target，找出数组中满足和大于等于target的长度最小的连续子数组，返回该子数组长度，若不存在，返回0；"
   ]
  },
  {
   "cell_type": "code",
   "execution_count": 3,
   "metadata": {},
   "outputs": [],
   "source": [
    "def minSubArrayLen(target, nums):\n",
    "        \"\"\"\n",
    "        :type target: int\n",
    "        :type nums: List[int]\n",
    "        :rtype: int\n",
    "        \"\"\"\n",
    "        result = 10000\n",
    "        # if not exist\n",
    "\n",
    "        for i in range(0,len(nums)):\n",
    "            temp_sum = 0\n",
    "            for j in range(i,len(nums)):\n",
    "                temp_sum += nums[j]\n",
    "                if (temp_sum >= target):\n",
    "                    subArrayLen = j - i + 1\n",
    "                    result = subArrayLen if subArrayLen < result else result\n",
    "                    break\n",
    "        return result if result > 0 else 0\n",
    "                "
   ]
  },
  {
   "cell_type": "code",
   "execution_count": 8,
   "metadata": {},
   "outputs": [
    {
     "data": {
      "text/plain": [
       "10000"
      ]
     },
     "execution_count": 8,
     "metadata": {},
     "output_type": "execute_result"
    }
   ],
   "source": [
    "input = [1,1,1,1,1,1,1,1]\n",
    "\n",
    "minSubArrayLen(11,input)"
   ]
  }
 ],
 "metadata": {
  "interpreter": {
   "hash": "e2c4c758a7ff6f380723c209dacec42be66d0b5884c871ca0a0111725681fc36"
  },
  "kernelspec": {
   "display_name": "Python 3.7.6 ('base')",
   "language": "python",
   "name": "python3"
  },
  "language_info": {
   "codemirror_mode": {
    "name": "ipython",
    "version": 3
   },
   "file_extension": ".py",
   "mimetype": "text/x-python",
   "name": "python",
   "nbconvert_exporter": "python",
   "pygments_lexer": "ipython3",
   "version": "3.7.6"
  },
  "orig_nbformat": 4
 },
 "nbformat": 4,
 "nbformat_minor": 2
}
